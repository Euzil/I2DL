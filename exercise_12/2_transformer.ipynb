{
 "cells": [
  {
   "cell_type": "markdown",
   "id": "026e0255",
   "metadata": {},
   "source": [
    "# Transformers - Attention is All You Need\n",
    "Welcome to the captivating world of Transformers in Natural Language Processing (NLP)! In recent years, Transformers have emerged as a groundbreaking paradigm in NLP, revolutionizing how we comprehend and process language. Unlike older architectures such as LSTMs (Long Short-Term Memory) and CNNs (Convolutional Neural Networks), Transformers leverage self-attention mechanisms, enabling them to capture long-range dependencies more effectively and allowing for parallelization of computations. The seminal paper ['Attention Is All You Need'](https://arxiv.org/abs/1706.03762) introduced the Transformer model, showcasing its prowess in various language tasks and laying the foundation for its widespread adoption. This Jupyter notebook is designed to unravel the intricacies of Transformers, highlighting their architectural nuances, contrasting them with traditional models, and demonstrating their applications across diverse NLP domains! (And in case you were wondering - yes, a certain transformer model created this text :D)\n",
    "\n",
    "We will stick very closely to the implementation presented in the paper to build our own translation model! There is no need to read it though, you can find the necessary sections of the paper before each task, together with some explanations. If you did not work on exercise 11, we would really advise you to do that first, since we will pick up on many of those topics!\n",
    "\n",
    "Alright - let's do this!"
   ]
  },
  {
   "cell_type": "markdown",
   "id": "2c3c01bc",
   "metadata": {},
   "source": [
    "## (Optional) Mount folder in Colab\n",
    "\n",
    "Uncomment the following cell to mount your gdrive if you are using the notebook in google colab:"
   ]
  },
  {
   "cell_type": "code",
   "execution_count": 2,
   "id": "32e6fa9b",
   "metadata": {},
   "outputs": [
    {
     "data": {
      "text/plain": [
       "\"\\nfrom google.colab import drive\\nimport os\\n\\ngdrive_path='/content/gdrive/MyDrive/i2dl/exercise_11'\\n\\n# This will mount your google drive under 'MyDrive'\\ndrive.mount('/content/gdrive', force_remount=True)\\n# In order to access the files in this notebook we have to navigate to the correct folder\\nos.chdir(gdrive_path)\\n# Check manually if all files are present\\nprint(sorted(os.listdir()))\\n\""
      ]
     },
     "execution_count": 2,
     "metadata": {},
     "output_type": "execute_result"
    }
   ],
   "source": [
    "# Use the following lines if you want to use Google Colab\n",
    "# We presume you created a folder \"i2dl\" within your main drive folder, and put the exercise there.\n",
    "# NOTE: terminate all other colab sessions that use GPU!\n",
    "# NOTE 2: Make sure the correct exercise folder (e.g exercise_11) is given.\n",
    "\n",
    "\"\"\"\n",
    "from google.colab import drive\n",
    "import os\n",
    "\n",
    "gdrive_path='/content/gdrive/MyDrive/i2dl/exercise_11'\n",
    "\n",
    "# This will mount your google drive under 'MyDrive'\n",
    "drive.mount('/content/gdrive', force_remount=True)\n",
    "# In order to access the files in this notebook we have to navigate to the correct folder\n",
    "os.chdir(gdrive_path)\n",
    "# Check manually if all files are present\n",
    "print(sorted(os.listdir()))\n",
    "\"\"\""
   ]
  },
  {
   "cell_type": "markdown",
   "id": "88dc9819",
   "metadata": {},
   "source": [
    "## Setup"
   ]
  },
  {
   "cell_type": "code",
   "execution_count": 3,
   "id": "7f568e01",
   "metadata": {},
   "outputs": [],
   "source": [
    "from exercise_code.util import notebook_util as util\n",
    "from exercise_code.network import *\n",
    "from exercise_code.tests import *\n",
    "from exercise_code.trainer import MPS_AVAILABLE\n",
    "import matplotlib.pyplot as plt\n",
    "import os\n",
    "import numpy as np\n",
    "import torch\n",
    "\n",
    "root_path = os.path.dirname(os.path.abspath(os.getcwd()))\n",
    "model_path = os.path.join(os.getcwd(), 'models')\n",
    "submission_path = os.path.join(os.getcwd(), 'submission_files')\n",
    "pretrained_model_path = os.path.join(model_path, 'pretrainedModels')\n",
    "dataset_path = os.path.join(root_path, 'datasets', 'transformerDatasets')\n",
    "\n",
    "%load_ext autoreload\n",
    "%autoreload 2\n",
    "\n",
    "os.environ['KMP_DUPLICATE_LIB_OK']='True'"
   ]
  },
  {
   "cell_type": "markdown",
   "id": "f6a27adc",
   "metadata": {},
   "source": [
    "## Model Overview\n",
    "\n",
    "<!-- <img src=\"images/Transformer-Transformer.drawio.png\" width=\"2500\"> -->\n",
    "<img src=\"https://i2dl.vc.in.tum.de/static/images/Transformer-Transformer.drawio.png\"  width=\"2500\">\n",
    "\n",
    "\n",
    "\n",
    "\n",
    "The model consists of two bigger building blocks, the encoder and the decoder. The encoder processes the input to our model. In our translation model, this input would be the sentence in the source language. The decoder part iteratively produces an output sequence. As an input it takes the already predicted words and given that sequence and the encoder input, it produces an output sequence as follows:\n",
    "\n",
    "| Encoder Input                       | Decoder Input                                      | Decoder Output                                   |\n",
    "|-------------------------------------|----------------------------------------------------|--------------------------------------------------|\n",
    "| [\"Hello\" ,\"how\", \"are\", \"you\", \"?\"] | [\"\\<start>\"]                                       | [\"Hallo\"]                                        |\n",
    "| [\"Hello\" ,\"how\", \"are\", \"you\", \"?\"] | [\"\\<start>\", \"Hallo\"]                              | [\"Hallo\", \"wie\"]                                 |\n",
    "| [\"Hello\" ,\"how\", \"are\", \"you\", \"?\"] | [\"\\<start>\", \"Hallo\", \"wie\"]                       | [\"Hallo\", \"wie\", \"geht's\"]                       |\n",
    "| [\"Hello\" ,\"how\", \"are\", \"you\", \"?\"] | [\"\\<start>\", \"Hallo\", \"wie\", \"geht's\"]             | [\"Hallo\", \"wie\", \"geht's\", \"dir\"]                |\n",
    "| [\"Hello\" ,\"how\", \"are\", \"you\", \"?\"] | [\"\\<start>\", \"Hallo\", \"wie\", \"geht's\", \"dir\"]      | [\"Hallo\", \"wie\", \"geht's\", \"dir\", \"?\"]           |\n",
    "| [\"Hello\" ,\"how\", \"are\", \"you\", \"?\"] | [\"\\<start>\", \"Hallo\", \"wie\", \"geht's\", \"dir\", \"?\"] | [\"Hallo\", \"wie\", \"geht's\", \"dir\", \"?\", \"\\<end>\"] |\n",
    "\n",
    "And the predicted end token breaks the loop."
   ]
  },
  {
   "cell_type": "markdown",
   "id": "4310bd92",
   "metadata": {},
   "source": [
    "<div class=\"alert alert-warning\">\n",
    "    <h3>WARNING: Task Implementation</h3>\n",
    "    <p>Throughout this notebook you will as always have to complete several tasks to complete the individual modules! Please be aware though, that some Modules may have several tasks that have to be completed, but please <strong>only</strong> concentrate on the <strong>current task</strong> and the <strong>corresponding hints</strong> (if there are any;). In other words, if you are working on Task 1, and there is also Task 4 in the TODOs of that Module, you don't have to work on it at this moment! <br>\n",
    "    Also, if we mention any specific pytorch modules in the task description or hints, you <strong>are allowed to use them!</strong> With that said, let's work on your first task!\n",
    "    </p>\n",
    "</div>"
   ]
  },
  {
   "cell_type": "markdown",
   "id": "548d0ecf3b6214a5",
   "metadata": {},
   "source": [
    "# Cross Attention vs Self Attention\n",
    "\n",
    "You might have noticed, that we are always talking about inputs to an attention mechanism and the context we want to compare it to. If we use the terminology from the paper, our inputs form the query of our attention mechanism, and the context form the key - value pairs! \n",
    "\n",
    "## Cross Attention\n",
    "Cross-Attention might be the easier idea to understand. We use two different sources for the input and context! In the transformer model, this type of attention will be used in the decoder, that way we can contextualize our output with the actual input to our model. \n",
    "\n",
    "Let's say you ask the model a question like \"Hello, how are you?\". This will be processed by the encoder and it will give us some output. Next, the decoder will start to produce its output token by token, and at each step, the output should obviously depend on our initial question! We can achieve this by using cross attention, where the inputs to the mechanism come from the decoder itself, and the context comes from the encoder. It is trying to give context from our input to its output - something we definetly want to have!\n",
    "\n",
    "## Self Attention\n",
    "In Self-Attention, the input and the context source are the same! That means, every word in a sequence is attending to all words in the same sequence, or in other words - the sentence is attending to itself. This form is used in both the encoder and decoder, and is used to process their inputs to gain a \"deeper\" understanding of the inputs by giving them context."
   ]
  },
  {
   "cell_type": "markdown",
   "id": "7f872475",
   "metadata": {},
   "source": [
    "<!-- <img src=\"images/Transformer-Self Cross Attention.drawio.png\" width=2000> -->\n",
    "<img src=\"https://i2dl.vc.in.tum.de/static/images/Transformer-Self Cross Attention.drawio.png\" width=2000>\n"
   ]
  },
  {
   "cell_type": "markdown",
   "id": "435f16f75c0b5bae",
   "metadata": {},
   "source": [
    "## Encoder Block\n",
    "\n",
    "The encoder side of the transformer processes the input to the model. If your model is trained on translating sentences, the input will be the sentence in the source language. \n",
    "\n",
    "Each Block consists of \n",
    "\n",
    "1. **multi-head self-attention layer**\n",
    "2. **residual connection**\n",
    "3. **layer normalization**\n",
    "4. **feed forward network**\n",
    "5. **residual connection**\n",
    "6. **layer normalization**\n",
    "\n",
    "We use layer normalization instead of batch normalization to get similar advantages of improving training stability while decoupling it from the batch size. (Remember, in batch normalization we normalize over an entire batch, while in layer normalization we normalize across over all inputs of a single sample!)\n",
    "\n",
    "The feed forward network is applied to each token embedding separately with follwing architecture: \n",
    "\n",
    "$FFN(x) = RELU(xW_1 + b_1) \\cdot W_2 + b_2$,  where\n",
    "\n",
    "$shape(W_1) = (d_{model},\\, d_{ff})$ </br>\n",
    "$shape(W_2) = (d_{ff},\\, d_{model})$\n",
    "\n",
    "After this, another residual connection followed by a layer normalization is added.\n",
    "\n",
    "One intuitive way to think about this $MultiHead \\rightarrow FFN$ structure of the encoder block is that the attention mechanism is used to \"look around\" in the input sequence and the feed forward network is used to process the information and transform it into a more useful representation."
   ]
  },
  {
   "cell_type": "markdown",
   "id": "0f1971a5",
   "metadata": {},
   "source": [
    "<!-- <img src=\"images/Transformer-Encoder Block.drawio.png\" width=\"1300\"> -->\n",
    "<img src=\"https://i2dl.vc.in.tum.de/static/images/Transformer-Encoder Block.drawio.png\" width=1300>\n"
   ]
  },
  {
   "cell_type": "markdown",
   "id": "feb92f5506c45c2a",
   "metadata": {},
   "source": [
    "<div class=\"alert alert-info\">\n",
    "    <h3>Task 3: Implement</h3>\n",
    "    <p>Implement the <code>__init__()</code> method and the <code>forward()</code> method of the <code>FeedForwardNeuralNetwork</code> class in <code>exercise_code/network/feed_forward_nn.py</code>.\n",
    "    </p>\n",
    "</div>"
   ]
  },
  {
   "cell_type": "code",
   "execution_count": 4,
   "id": "a8ab94c21859e7db",
   "metadata": {},
   "outputs": [
    {
     "name": "stdout",
     "output_type": "stream",
     "text": [
      "\n",
      "####### Testing Started #######\n",
      "\n",
      "Test TestLinear1: \u001b[92mpassed!\u001b[0m\n",
      "Test TestLinear1Bias: \u001b[92mpassed!\u001b[0m\n",
      "Test TestLinear2: \u001b[92mpassed!\u001b[0m\n",
      "Test TestLinear2Bias: \u001b[92mpassed!\u001b[0m\n",
      "Test TestParameterCount: \u001b[92mpassed!\u001b[0m\n",
      "\n",
      "####### Testing Finished #######\n",
      "Test TestTask3: \u001b[92mpassed!\u001b[0m -->  Tests passed: \u001b[92m5\u001b[0m/\u001b[92m5\u001b[0m\n",
      "Score: \u001b[92m100\u001b[0m/\u001b[92m100\u001b[0m\n"
     ]
    }
   ],
   "source": [
    "_ = test_task_3()"
   ]
  },
  {
   "cell_type": "markdown",
   "id": "9e1ce69f250dbc3e",
   "metadata": {},
   "source": [
    "<div class =\"alert alert-info\">\n",
    "    <h3>Task 4: Implement </h3>\n",
    "    <p>Implement the <code>__init__()</code> method and the <code>forward()</code> method of the <code>EncoderBlock</code> class in <code>exercise_code/network/encoder_block.py</code>.\n",
    "    </p>\n",
    "</div>"
   ]
  },
  {
   "cell_type": "code",
   "execution_count": 5,
   "id": "6a6263d0344428b7",
   "metadata": {},
   "outputs": [
    {
     "name": "stdout",
     "output_type": "stream",
     "text": [
      "\n",
      "####### Testing Started #######\n",
      "\n",
      "Test EncoderBlockOutputShapeTest: \u001b[92mpassed!\u001b[0m\n",
      "Test EncoderBlockOutputNorm: \u001b[92mpassed!\u001b[0m\n",
      "Test EncoderBlockParameterCountTest: \u001b[92mpassed!\u001b[0m\n",
      "Test EncoderBlockValueTest: \u001b[92mpassed!\u001b[0m\n",
      "\n",
      "####### Testing Finished #######\n",
      "Test TestTask4: \u001b[92mpassed!\u001b[0m -->  Tests passed: \u001b[92m4\u001b[0m/\u001b[92m4\u001b[0m\n",
      "Score: \u001b[92m100\u001b[0m/\u001b[92m100\u001b[0m\n"
     ]
    }
   ],
   "source": [
    "_ = test_task_4()"
   ]
  },
  {
   "cell_type": "markdown",
   "id": "09703b84",
   "metadata": {},
   "source": [
    "## Encoder Stack\n",
    "\n",
    "The only part left on the encoder side is to stack multiple blocks together!\n",
    "\n",
    "<!-- <img src=\"images/Transformer-Encoder.drawio.png\" width=\"1000\"> -->\n",
    "<img src=\"https://i2dl.vc.in.tum.de/static/images/Transformer-Encoder.drawio.png\" width=1000>\n"
   ]
  },
  {
   "cell_type": "markdown",
   "id": "aa9ca607",
   "metadata": {},
   "source": [
    "<div class=\"alert alert-info\">\n",
    "    <h3>Task 5: Check Code</h3>\n",
    "    <p>Check the <code>__init__()</code> method and the <code>forward()</code> method of the <code>Encoder</code> class in <code>exercise_code/network/encoder.py</code>.\n",
    "    </p>\n",
    "</div>"
   ]
  },
  {
   "cell_type": "code",
   "execution_count": 6,
   "id": "74017db2",
   "metadata": {},
   "outputs": [
    {
     "name": "stdout",
     "output_type": "stream",
     "text": [
      "\n",
      "####### Testing Started #######\n",
      "\n",
      "Test EncoderOutputShapeTest: \u001b[92mpassed!\u001b[0m\n",
      "Test EncoderParameterCountTest: \u001b[92mpassed!\u001b[0m\n",
      "\n",
      "####### Testing Finished #######\n",
      "Test TestTask5: \u001b[92mpassed!\u001b[0m -->  Tests passed: \u001b[92m2\u001b[0m/\u001b[92m2\u001b[0m\n",
      "Score: \u001b[92m100\u001b[0m/\u001b[92m100\u001b[0m\n"
     ]
    }
   ],
   "source": [
    "_ = test_task_5()"
   ]
  },
  {
   "cell_type": "markdown",
   "id": "72b46041",
   "metadata": {},
   "source": [
    "# Decoder\n",
    "The job of the decoder is basically to produce an output given an input and the previous outputs (if available). Those previous outputs are also the input to the decoder! We have actually already seen most of the relevant parts of the decoder in the encoder, there is only one major addition: Causal attention!\n",
    "\n",
    "\n"
   ]
  },
  {
   "cell_type": "markdown",
   "id": "1b573662",
   "metadata": {},
   "source": [
    "## Causal Attention\n",
    "\n",
    "Previous language models based on RNN have one large draw back: during training, the model has to iteratively go through the entire sequence to predict the next word. Transformer models on the other hand can do this in parallel!\n",
    "\n",
    "So instead of something like this:\n",
    "\n",
    "|                    | Iteration 1                        | Iteration 2                        | Iteration 3                        |  \n",
    "|--------------------|------------------------------------|------------------------------------|------------------------------------|\n",
    "| **Encoder Input**  | [\"Hello\" ,\"how\", \"are\", \"you\", \"?\"]| [\"Hello\" ,\"how\", \"are\", \"you\", \"?\"]| [\"Hello\" ,\"how\", \"are\", \"you\", \"?\"]|\n",
    "| **Decoder Input**  | [\"\\<start>\"]                       | [\"\\<start>\", \"Nicht\"]              | [\"\\<start>\", \"Nicht\", \"sehr\"]      | \n",
    "| **Decoder Output** | [\"Nicht\"]                          | [\"Nicht\", \"sehr\"]                  | [\"Nicht\", \"sehr\", \"effektiv\"]      | \n",
    "| **Compare to**     | [\"Hallo\"]                          | [\"Hallo\", \"wie\"]                   | [\"Hallo\", \"wie\", \"geht's\"]         | \n",
    "\n",
    "\n",
    "and so on we want to do this in one pass, where we give the model the correct sentence as the decoder input. It is shifted right, since the model should predict the first token, given the \\<start> token.\n",
    "\n",
    "|                    | Iteration 1                                        |\n",
    "|--------------------|----------------------------------------------------|\n",
    "| **Encoder Input**  | [\"Hello\" ,\"how\", \"are\", \"you\", \"?\"]                |\n",
    "| **Decoder Input**  | [\"\\<start>\", \"Hallo\", \"wie\", \"geht's\", \"dir\", \"?\"] | \n",
    "| **Decoder Output** | [\"Hallo\", \"wie\", \"geht's\", \"dir\", \"?\", \"\\<end>\"]   | \n",
    "| **Compare to**     | [\"Hallo\", \"wie\", \"geht's\", \"dir\", \"?\", \"\\<end>\"]   | \n",
    "\n",
    "\n",
    "Problem is, our model could theoretically learn to cheat, by just returning the same sequence it got as an input. In other words, we want to ensure, that when the model is predicting the token [\"geht's\"], it only depends on the previous token [\"\\<start>\", \"Hallo\", \"wie\"]. This can be done with masks!\n",
    "\n",
    "If we look back at our definition of attention we had:\n",
    "\n",
    "$\\tilde{x}_i = \\sum_{j=1}^N s_{ij} x_j$\n",
    "\n",
    "If we dont want future tokens to have an affect on the current token, we have to ensure, that all scores where $j > i$ are zero! (Normally it would be $\\geq$, but since the decoder input is shifted over by one token - the \\<start> token - its $>$)\n",
    "\n",
    "Example:\n",
    "\n",
    "$\\tilde{x}_0 = s_{00} x_0 + s_{01} x_1 +s_{02} x_2$ \\\n",
    "$\\tilde{x}_1 = s_{10} x_0 + s_{11} x_1 +s_{12} x_2$ \\\n",
    "$\\tilde{x}_2 = s_{20} x_0 + s_{21} x_1 +s_{22} x_2$  \n",
    "\n",
    "Now, we want  \n",
    "$\\tilde{x}_0$ to only depend on $x_0$  \n",
    "$\\tilde{x}_1$ to only depend on $x_0$ and $x_1$  \n",
    "$\\tilde{x}_2$ to only depend on $x_0$, $x_1$ and $x_2$  \n",
    "\n",
    "That leads to:  \n",
    "$\\tilde{x}_0 = s_{00} x_0 + 0 \\cdot x_1 + 0 \\cdot x_2$  \n",
    "$\\tilde{x}_1 = s_{10} x_0 + s_{11} x_1 + 0 \\cdot x_2$  \n",
    "$\\tilde{x}_2 = s_{20} x_0 + s_{21} x_1 +s_{22} x_2$  \n",
    "\n",
    "The scores form a lower triangle matrix. Let's test this:"
   ]
  },
  {
   "cell_type": "code",
   "execution_count": 7,
   "id": "8709b828",
   "metadata": {},
   "outputs": [
    {
     "data": {
      "text/plain": [
       "array([[1., 0., 0., 0.],\n",
       "       [1., 1., 0., 0.],\n",
       "       [1., 1., 1., 0.],\n",
       "       [1., 1., 1., 1.]])"
      ]
     },
     "execution_count": 7,
     "metadata": {},
     "output_type": "execute_result"
    }
   ],
   "source": [
    "# Define scores as lower triangular matrix of ones\n",
    "scores = np.tril(np.ones((4, 4)), k=0)\n",
    "scores"
   ]
  },
  {
   "cell_type": "markdown",
   "id": "57eb4411",
   "metadata": {},
   "source": [
    "Now that we know what we have to do, we have figure when to set these scores to zero! We could try right after we compute the dot products using a mask:"
   ]
  },
  {
   "cell_type": "code",
   "execution_count": 8,
   "id": "878371f6",
   "metadata": {},
   "outputs": [
    {
     "name": "stdout",
     "output_type": "stream",
     "text": [
      "[[1. 0. 0. 0.]\n",
      " [1. 1. 0. 0.]\n",
      " [1. 1. 1. 0.]\n",
      " [1. 1. 1. 1.]]\n"
     ]
    }
   ],
   "source": [
    "# Define mask as lower triangular matrix of ones (same as above)\n",
    "mask = np.tril(np.ones((4, 4)), k=0)\n",
    "print(mask)"
   ]
  },
  {
   "cell_type": "code",
   "execution_count": 9,
   "id": "0f03abe6",
   "metadata": {},
   "outputs": [
    {
     "name": "stdout",
     "output_type": "stream",
     "text": [
      "[[3.5  0.   0.   0.  ]\n",
      " [5.   6.25 0.   0.  ]\n",
      " [4.   4.5  3.75 0.  ]\n",
      " [2.75 3.5  2.25 1.75]]\n"
     ]
    }
   ],
   "source": [
    "# Get dummy embeddings fo this example\n",
    "queries = util.get_dummy_embeddings()\n",
    "keys = util.get_dummy_embeddings()\n",
    "\n",
    "# Compute scores\n",
    "scores = queries @ keys.T\n",
    "\n",
    "# Multiply scores with mask to set all scores above the diagonal to zero\n",
    "scores = scores * mask\n",
    "print(scores)"
   ]
  },
  {
   "cell_type": "markdown",
   "id": "680aa112",
   "metadata": {},
   "source": [
    "Looks good! But what happens when we run the softmax over it? "
   ]
  },
  {
   "cell_type": "code",
   "execution_count": 10,
   "id": "fa748c43",
   "metadata": {},
   "outputs": [
    {
     "name": "stdout",
     "output_type": "stream",
     "text": [
      "[[0.91693306 0.02768898 0.02768898 0.02768898]\n",
      " [0.2220338  0.7749741  0.00149605 0.00149605]\n",
      " [0.2902052  0.47846748 0.22601203 0.00531529]\n",
      " [0.24441451 0.51742552 0.14824489 0.08991507]]\n"
     ]
    }
   ],
   "source": [
    "# Apply softmax to scores\n",
    "scores = util.softmax(scores)\n",
    "print(scores)"
   ]
  },
  {
   "cell_type": "markdown",
   "id": "8006e35f",
   "metadata": {},
   "source": [
    "Suddenly our weights aren't zero anymore! This shouldn't be that big of a surprise, since $e^0 = 1$.\n",
    "Alright, let's try setting the scores to zero after the softmax:"
   ]
  },
  {
   "cell_type": "code",
   "execution_count": 11,
   "id": "47c269f6",
   "metadata": {},
   "outputs": [
    {
     "name": "stdout",
     "output_type": "stream",
     "text": [
      "[[0.15086667 0.         0.         0.        ]\n",
      " [0.17945499 0.62635946 0.         0.        ]\n",
      " [0.2806736  0.46275254 0.21858882 0.        ]\n",
      " [0.24441451 0.51742552 0.14824489 0.08991507]]\n"
     ]
    }
   ],
   "source": [
    "# Compute scores\n",
    "scores = queries @ keys.T\n",
    "\n",
    "# Apply softmax to scores\n",
    "scores = util.softmax(scores)\n",
    "\n",
    "# Multiply scores with mask to set all scores above the diagonal to zero\n",
    "scores = scores * mask\n",
    "print(scores)"
   ]
  },
  {
   "cell_type": "markdown",
   "id": "0ab35398",
   "metadata": {},
   "source": [
    "Alright, looks better! Only problem left is that the values don't add up to 1 anymore for every column! We somehow have to change the values before the softmax is applied!\n",
    "That's exactly what infinity mask do! Remember $e^{-inf} = 0$! (Technically it's the limit, but I think you know what we mean!) So these values wouldn't affect the sum, and their value will automatically be zero! So all we have to do is add -inf to the values we want to be zero later on!"
   ]
  },
  {
   "cell_type": "code",
   "execution_count": 12,
   "id": "21235cc7",
   "metadata": {},
   "outputs": [
    {
     "name": "stdout",
     "output_type": "stream",
     "text": [
      "[[  0. -inf -inf -inf]\n",
      " [  0.   0. -inf -inf]\n",
      " [  0.   0.   0. -inf]\n",
      " [  0.   0.   0.   0.]]\n"
     ]
    }
   ],
   "source": [
    "# Replace all zeros with -inf (We want to keep the scores with a one!)\n",
    "inf_mask = np.where(mask, 0, -np.inf)\n",
    "print(inf_mask)"
   ]
  },
  {
   "cell_type": "markdown",
   "id": "28fc95f8",
   "metadata": {},
   "source": [
    "Let's add this to our scores before the softmax is applied:"
   ]
  },
  {
   "cell_type": "code",
   "execution_count": 13,
   "id": "b2214367",
   "metadata": {},
   "outputs": [
    {
     "name": "stdout",
     "output_type": "stream",
     "text": [
      "[[1.         0.         0.         0.        ]\n",
      " [0.22270014 0.77729986 0.         0.        ]\n",
      " [0.29175596 0.48102426 0.22721977 0.        ]\n",
      " [0.24441451 0.51742552 0.14824489 0.08991507]]\n"
     ]
    }
   ],
   "source": [
    "# Compute scores\n",
    "scores = (queries @ keys.T) \n",
    "\n",
    "# Add the -inf mask to the scores\n",
    "scores += inf_mask\n",
    "\n",
    "# Apply softmax to scores\n",
    "scores = util.softmax(scores)\n",
    "print(scores)"
   ]
  },
  {
   "cell_type": "markdown",
   "id": "e7d55fa6",
   "metadata": {},
   "source": [
    "Perfect! Everything seems to work as planned!\n",
    "\n",
    "Note: This perticular kind of mask is known as a casual mask. "
   ]
  },
  {
   "cell_type": "markdown",
   "id": "39a42e82",
   "metadata": {},
   "source": [
    "<!-- <img src=\"images/Transformer-Masked Attention.drawio.png\" width=\"1000\"> -->\n",
    "<img src=\"https://i2dl.vc.in.tum.de/static/images/Transformer-Masked Attention.drawio.png\" width=1000>\n",
    "\n"
   ]
  },
  {
   "cell_type": "markdown",
   "id": "bf41b774",
   "metadata": {},
   "source": [
    "<div class=\"alert alert-info\">\n",
    "    <h3>Task 6: Implement</h3>\n",
    "    <p>Apply masking as explained above in the <code>forward()</code> method of the <code>ScaledDotAttention</code> class in <code>exercise_code/network/attention.py</code> and update the <code>forward()</code> method of the <code>MultiHeadAttention</code> class in <code>exercise_code/network/multi_head_attention.py</code> to pass the mask to the attention heads!\n",
    "    </p>\n",
    "</div>"
   ]
  },
  {
   "cell_type": "code",
   "execution_count": 14,
   "id": "f47805b2",
   "metadata": {},
   "outputs": [
    {
     "name": "stdout",
     "output_type": "stream",
     "text": [
      "\n",
      "####### Testing Started #######\n",
      "\n",
      "Test AttentionPaddingTest: \u001b[92mpassed!\u001b[0m\n",
      "Test MultiHeadAttentionPaddingTest: \u001b[92mpassed!\u001b[0m\n",
      "\n",
      "####### Testing Finished #######\n",
      "Test TestTask6: \u001b[92mpassed!\u001b[0m -->  Tests passed: \u001b[92m2\u001b[0m/\u001b[92m2\u001b[0m\n",
      "Score: \u001b[92m100\u001b[0m/\u001b[92m100\u001b[0m\n"
     ]
    }
   ],
   "source": [
    "_ = test_task_6()"
   ]
  },
  {
   "cell_type": "markdown",
   "id": "3dc01d5e",
   "metadata": {},
   "source": [
    "## Decoder Block\n",
    "Just like the encoder, the decoder consists of several blocks. \n",
    "\n",
    "Each Block consists of \n",
    "\n",
    "1. **causal multi-head self-attention layer**\n",
    "2. **residual connection**\n",
    "3. **layer normalization**\n",
    "4. **multi-head cross-attention layer**\n",
    "5. **residual connection**\n",
    "6. **layer normalization**\n",
    "7. **feed forward network**\n",
    "8. **residual connection**\n",
    "9. **layer normalization**"
   ]
  },
  {
   "cell_type": "markdown",
   "id": "c603d49d",
   "metadata": {},
   "source": [
    "<!-- <img src=\"images/Transformer-DecoderBlock.drawio.png\" width=\"1500\"> -->\n",
    "<img src=\"https://i2dl.vc.in.tum.de/static/images/Transformer-Decoder Block.drawio.png\" width=1500>\n"
   ]
  },
  {
   "cell_type": "markdown",
   "id": "386125a4",
   "metadata": {},
   "source": [
    "<div class=\"alert alert-info\">\n",
    "    <h3>Task 7: Implement</h3>\n",
    "    <p>Implement the <code>__init__()</code> method and the <code>forward()</code> method of the <code>DecoderBlock</code> class in <code>exercise_code/network/decoder_block.py</code>.\n",
    "    </p>\n",
    "</div>"
   ]
  },
  {
   "cell_type": "code",
   "execution_count": 15,
   "id": "235605a4",
   "metadata": {},
   "outputs": [
    {
     "name": "stdout",
     "output_type": "stream",
     "text": [
      "\n",
      "####### Testing Started #######\n",
      "\n",
      "Test DecoderBlockOutputShapeTest: \u001b[92mpassed!\u001b[0m\n",
      "Test DecoderBlockOutputNorm: \u001b[92mpassed!\u001b[0m\n",
      "Test DecoderBlockParameterCountTest: \u001b[92mpassed!\u001b[0m\n",
      "Test DecoderBlockValueTest: \u001b[92mpassed!\u001b[0m\n",
      "\n",
      "####### Testing Finished #######\n",
      "Test TestTask7: \u001b[92mpassed!\u001b[0m -->  Tests passed: \u001b[92m4\u001b[0m/\u001b[92m4\u001b[0m\n",
      "Score: \u001b[92m100\u001b[0m/\u001b[92m100\u001b[0m\n"
     ]
    }
   ],
   "source": [
    "_ = test_task_7()"
   ]
  },
  {
   "cell_type": "markdown",
   "id": "cb8e4c81",
   "metadata": {},
   "source": [
    "## Decoder Stack\n",
    "\n",
    "Just like in the encoder, the decoder consist of several decoder blocks"
   ]
  },
  {
   "cell_type": "markdown",
   "id": "ef132331",
   "metadata": {},
   "source": [
    "<!-- <img src=\"images/Transformer-Decoder.drawio.png\" width=\"1000\"> -->\n",
    "<img src=\"https://i2dl.vc.in.tum.de/static/images/Transformer-Decoder.drawio.png\" width=1000>\n"
   ]
  },
  {
   "cell_type": "markdown",
   "id": "bc37d1b2",
   "metadata": {},
   "source": [
    "<div class=\"alert alert-info\">\n",
    "    <h3>Task 8: Check Code</h3>\n",
    "    <p>Check the <code>__init__()</code> method and the <code>forward()</code> method of the <code>Decoder</code> class in <code>exercise_code/network/decoder.py</code>.\n",
    "    </p>\n",
    "</div>"
   ]
  },
  {
   "cell_type": "code",
   "execution_count": 16,
   "id": "9a9370b5",
   "metadata": {},
   "outputs": [
    {
     "name": "stdout",
     "output_type": "stream",
     "text": [
      "\n",
      "####### Testing Started #######\n",
      "\n",
      "Test DecoderOutputShapeTest: \u001b[92mpassed!\u001b[0m\n",
      "Test DecoderParameterCountTest: \u001b[92mpassed!\u001b[0m\n",
      "\n",
      "####### Testing Finished #######\n",
      "Test TestTask8: \u001b[92mpassed!\u001b[0m -->  Tests passed: \u001b[92m2\u001b[0m/\u001b[92m2\u001b[0m\n",
      "Score: \u001b[92m100\u001b[0m/\u001b[92m100\u001b[0m\n"
     ]
    }
   ],
   "source": [
    "_ = test_task_8()"
   ]
  },
  {
   "cell_type": "markdown",
   "id": "1a911f69",
   "metadata": {},
   "source": [
    "## Final Output\n",
    "\n",
    "The last thing we have to do is project the individual embeddings into distributions over our vocabulary. This can be done with a simple linear layer! The outputs at this stage will not be distributions yet, since the values do not add up to one! We accomplish this in the loss layer, using a softmax function!\n",
    "\n",
    "To minimize the weights needed in this network, we will actually use a technique called weight tying! If you remember the Embedding Layer, this was basically a weight matrix with shape (vocab_size, d_model). For our final output layer, we want to project from the embedding space to the vocabulary space, so that gives us (d_model, vocab_size)! The shapes are just transposed! And the approach is to actually reuse these weights from our embeddings and transpose them for our final layer! Here is the corresponding paper: https://arxiv.org/abs/1608.05859v3."
   ]
  },
  {
   "cell_type": "markdown",
   "id": "9fd491ec",
   "metadata": {},
   "source": [
    "<!-- <img src=\"images/Transformer-Transformer-Full.drawio.png\" width=\"2500\"> -->\n",
    "<img src=\"https://i2dl.vc.in.tum.de/static/images/Transformer-Transformer-Full.drawio.png\" width=2500>\n",
    "\n"
   ]
  },
  {
   "cell_type": "markdown",
   "id": "f5778c96",
   "metadata": {},
   "source": [
    "<div class=\"alert alert-info\">\n",
    "    <h3>Task 9: Implement</h3>\n",
    "    <p>Implement the <code>__init__()</code> and the <code>forward()</code> method of the <code>Transformer</code> class in <code>exercise_code/network/transformer.py</code>. We have already implemented weight tying for you!\n",
    "    </p>\n",
    "</div>"
   ]
  },
  {
   "cell_type": "code",
   "execution_count": 17,
   "id": "1c9e6a4d",
   "metadata": {},
   "outputs": [
    {
     "name": "stdout",
     "output_type": "stream",
     "text": [
      "\n",
      "####### Testing Started #######\n",
      "\n",
      "Test TransformerOutputShapeTest: \u001b[92mpassed!\u001b[0m\n",
      "Test TransformerParameterCountTest: \u001b[92mpassed!\u001b[0m\n",
      "Test TransformerParameterCountWeightTyingTest: \u001b[92mpassed!\u001b[0m\n",
      "Test TransformerValueTest: \u001b[92mpassed!\u001b[0m\n",
      "\n",
      "####### Testing Finished #######\n",
      "Test TestTask9: \u001b[92mpassed!\u001b[0m -->  Tests passed: \u001b[92m4\u001b[0m/\u001b[92m4\u001b[0m\n",
      "Score: \u001b[92m100\u001b[0m/\u001b[92m100\u001b[0m\n"
     ]
    }
   ],
   "source": [
    "_ = test_task_9()"
   ]
  },
  {
   "cell_type": "markdown",
   "id": "569366d6",
   "metadata": {},
   "source": [
    "# Paddings\n",
    "\n",
    "A keen eye might have noticed a problem with our model - in the collate function we added paddings to ensure all sequences have the same length! Our model on the other hand shouldn't change its output just because we are adding \"empty\" tokens at the end of our sequence! The good news is, we have actually already implemented most of what we need to actually enable this! But first, let's have a look at what we are dealing with and load in a batch from our dataset!"
   ]
  },
  {
   "cell_type": "code",
   "execution_count": 18,
   "id": "3116f44e",
   "metadata": {},
   "outputs": [],
   "source": [
    "from exercise_code.data import CustomIterableDataset\n",
    "from exercise_code.data import CustomCollator\n",
    "from torch.utils.data import DataLoader\n",
    "\n",
    "# Define the path to the dataset\n",
    "file = os.path.join(dataset_path, 'dummyDatasets', 'ds_dummy')\n",
    "\n",
    "# Define the collator and dataset\n",
    "collator = CustomCollator()\n",
    "dataset = CustomIterableDataset(file)\n",
    "\n",
    "# Define the data loader\n",
    "loader = DataLoader(dataset, batch_size=3, collate_fn=collator)\n",
    "\n",
    "# Create an Embedding layer with 512 dimensions\n",
    "embedding = Embedding(vocab_size=len(collator.tokenizer), d_model=512, max_length=2048)\n",
    "\n",
    "# Get the first batch from the data loader\n",
    "batch = next(iter(loader))"
   ]
  },
  {
   "cell_type": "markdown",
   "id": "079c4025",
   "metadata": {},
   "source": [
    "Note: If this didn't work, there is probably a problem in your Dataset! Go Back to Notebook 2 and make sure you pass the test!"
   ]
  },
  {
   "cell_type": "code",
   "execution_count": 19,
   "id": "deb47e74",
   "metadata": {},
   "outputs": [
    {
     "name": "stdout",
     "output_type": "stream",
     "text": [
      "[[[ True  True  True  True  True  True  True  True  True  True  True\n",
      "    True]]\n",
      "\n",
      " [[ True  True  True  True  True  True  True  True  True  True False\n",
      "   False]]\n",
      "\n",
      " [[ True  True  True  True  True  True  True  True  True False False\n",
      "   False]]]\n"
     ]
    }
   ],
   "source": [
    "padding_masks = batch['encoder_mask']\n",
    "\n",
    "print(padding_masks.numpy())"
   ]
  },
  {
   "cell_type": "markdown",
   "id": "2089927b",
   "metadata": {},
   "source": [
    "In this first item of the batch, the sequence has no padding at all - so nothing to do here!\n",
    "For all the others we have come up with something... Let's go back to the formula:\n",
    "\n",
    "$\\tilde{x}_i = \\sum_{j=1}^N s_{ij} x_j$\n",
    "\n",
    "All we really want is that if $x_j$ is a padding token, it doesn't contribute to the updated embedding! In other words - its score has to be zero! We can solve this exactly the same way as we did with the attention masking! Let's do this for a single item, in this case the second item in the batch!\n"
   ]
  },
  {
   "cell_type": "code",
   "execution_count": 20,
   "id": "4f7edee9",
   "metadata": {},
   "outputs": [
    {
     "name": "stdout",
     "output_type": "stream",
     "text": [
      "torch.Size([12, 512])\n"
     ]
    }
   ],
   "source": [
    "# Load the embeddings from the second item in the batch\n",
    "inputs = embedding(batch['encoder_inputs'][1])\n",
    "\n",
    "# We are using the same embeddings for the queries, keys and values - self-attention!\n",
    "queries = inputs\n",
    "keys = inputs\n",
    "values = inputs\n",
    "\n",
    "print(queries.shape)"
   ]
  },
  {
   "cell_type": "code",
   "execution_count": 21,
   "id": "3f737bab",
   "metadata": {},
   "outputs": [
    {
     "name": "stdout",
     "output_type": "stream",
     "text": [
      "tensor([ True,  True,  True,  True,  True,  True,  True,  True,  True,  True,\n",
      "        False, False])\n"
     ]
    }
   ],
   "source": [
    "# Load the padding mask of the second item\n",
    "padding_mask = padding_masks[1].squeeze(0)\n",
    "\n",
    "print(padding_mask)"
   ]
  },
  {
   "cell_type": "code",
   "execution_count": 22,
   "id": "3cbcb3f5",
   "metadata": {},
   "outputs": [
    {
     "name": "stdout",
     "output_type": "stream",
     "text": [
      "tensor([[1., 1., 1., 1., 1., 1., 1., 1., 1., 1., 0., 0.],\n",
      "        [1., 1., 1., 1., 1., 1., 1., 1., 1., 1., 0., 0.],\n",
      "        [1., 1., 1., 1., 1., 1., 1., 1., 1., 1., 0., 0.],\n",
      "        [1., 1., 1., 1., 1., 1., 1., 1., 1., 1., 0., 0.],\n",
      "        [1., 1., 1., 1., 1., 1., 1., 1., 1., 1., 0., 0.],\n",
      "        [1., 1., 1., 1., 1., 1., 1., 1., 1., 1., 0., 0.],\n",
      "        [1., 1., 1., 1., 1., 1., 1., 1., 1., 1., 0., 0.],\n",
      "        [1., 1., 1., 1., 1., 1., 1., 1., 1., 1., 0., 0.],\n",
      "        [1., 1., 1., 1., 1., 1., 1., 1., 1., 1., 0., 0.],\n",
      "        [1., 1., 1., 1., 1., 1., 1., 1., 1., 1., 0., 0.],\n",
      "        [1., 1., 1., 1., 1., 1., 1., 1., 1., 1., 0., 0.],\n",
      "        [1., 1., 1., 1., 1., 1., 1., 1., 1., 1., 0., 0.]])\n"
     ]
    }
   ],
   "source": [
    "# Create a mask of length 12 by 12 and set the values to 0 where we have to mask\n",
    "mask = torch.ones((len(padding_mask), len(padding_mask)))\n",
    "\n",
    "for i, row in enumerate(mask):\n",
    "    for j, item in enumerate(row):\n",
    "        if not padding_mask[j]:\n",
    "            mask[i, j] = 0\n",
    "    \n",
    "print(mask)"
   ]
  },
  {
   "cell_type": "markdown",
   "id": "52cbe5e1",
   "metadata": {},
   "source": [
    "What we did is set the mask to zero, for every column that refers to a padding token! What we get is this matrix, where the left side are ones, and the rest is zero. We can achieve the same result by just copying the vector along the first dimension - duh! (We will let pytorch handle the copying automatically using broadcasting, a keen eye might have noticed that we squeezed the dimension two cells up ;))"
   ]
  },
  {
   "cell_type": "markdown",
   "id": "85d325b6",
   "metadata": {},
   "source": [
    "From here we can treat it the same way we did with our causal attention block, by adding -inf to all values we want to mask out!"
   ]
  },
  {
   "cell_type": "code",
   "execution_count": 23,
   "id": "eb33053f",
   "metadata": {},
   "outputs": [
    {
     "data": {
      "image/png": "[encoded data removed]",
      "text/plain": [
       "<Figure size 800x600 with 2 Axes>"
      ]
     },
     "metadata": {},
     "output_type": "display_data"
    }
   ],
   "source": [
    "from torch.nn.functional import softmax\n",
    "\n",
    "# Compute scores\n",
    "scores = (queries @ keys.T)/np.sqrt(512)\n",
    "\n",
    "# Instead of adding -inf, we set the scores to -inf where the mask is 0 -> Same thing ;)\n",
    "scores.masked_fill_(~mask.bool(), -torch.inf)\n",
    "\n",
    "# Apply softmax to scores\n",
    "scores = softmax(scores, dim=-1)\n",
    "\n",
    "# Print scores\n",
    "scores = scores.detach().numpy()\n",
    "util.plot_attention_scores(scores)"
   ]
  },
  {
   "cell_type": "markdown",
   "id": "09ec363f",
   "metadata": {},
   "source": [
    "Perfect, the scores are concentrated to the left side!\n",
    "For the causal mask (the lower triangle mask) we have to combine it with the decoder mask. We can do this by simply multiplying the two together!  "
   ]
  },
  {
   "cell_type": "code",
   "execution_count": 24,
   "id": "5e75ba46e26ab345",
   "metadata": {},
   "outputs": [
    {
     "data": {
      "image/png": "[encoded data removed]",
      "text/plain": [
       "<Figure size 1500x500 with 6 Axes>"
      ]
     },
     "metadata": {},
     "output_type": "display_data"
    }
   ],
   "source": [
    "from exercise_code.util.transformer_util import create_causal_mask\n",
    "\n",
    "# Get the masks from the first batch\n",
    "encoder_mask = batch['encoder_mask']\n",
    "decoder_mask = batch['decoder_mask']\n",
    "\n",
    "# Create the causal mask (lower triangle mask) for the encoder\n",
    "causal_mask = create_causal_mask(decoder_mask.shape[-1])\n",
    "\n",
    "# Combine the decoder mask and the causal mask\n",
    "causal_mask = causal_mask * decoder_mask\n",
    "\n",
    "# Plot all masks\n",
    "util.plot_boolean_masks(causal_mask, encoder_mask)"
   ]
  },
  {
   "cell_type": "markdown",
   "id": "5664a5816e3591f1",
   "metadata": {},
   "source": [
    "Note: For those who are wondering why the shape dont match up: The decoder mask and encoder mask dont have to be the same length for each sentence ;)"
   ]
  },
  {
   "cell_type": "markdown",
   "id": "99655b8d79e74dd8",
   "metadata": {},
   "source": [
    "<div class=\"alert alert-info\">\n",
    "    <h3>Task 10: Implement</h3>\n",
    "    <p>Add the padding masks at the appropriate spots in the code! Please go over the <code>forward()</code> passes in the <code>EncoderBlock</code>, <code>DecoderBlock</code> as well as the <code>Transformer</code> class in their respective files!\n",
    "    </p>\n",
    "</div>"
   ]
  },
  {
   "cell_type": "code",
   "execution_count": 25,
   "id": "6b05c25b7454b945",
   "metadata": {},
   "outputs": [
    {
     "name": "stdout",
     "output_type": "stream",
     "text": [
      "\n",
      "####### Testing Started #######\n",
      "\n",
      "Test TransformerPaddingTest: \u001b[92mpassed!\u001b[0m\n",
      "\n",
      "####### Testing Finished #######\n",
      "Test TestTask10: \u001b[92mpassed!\u001b[0m -->  Tests passed: \u001b[92m1\u001b[0m/\u001b[92m1\u001b[0m\n",
      "Score: \u001b[92m100\u001b[0m/\u001b[92m100\u001b[0m\n"
     ]
    }
   ],
   "source": [
    "_ = test_task_10()"
   ]
  },
  {
   "cell_type": "markdown",
   "id": "d5d54a9d",
   "metadata": {},
   "source": [
    "# Regularization\n",
    "\n",
    " We employ two types of regularization during training:\n",
    " \n",
    "- Residual Dropout: \n",
    "We apply dropout to the output of each sub-layer, before it is added to the sub-layer input and normalized. In addition, we apply dropout to the sums of the embeddings and the positional encodings in both the encoder and decoder stacks. For the base model, we use a rate of $P_{drop}$ = 0.1.\n",
    " \n",
    "- Label Smoothing: \n",
    "During training, we employed label smoothing of value $\\epsilon_{ls}$ = 0.1. This hurts perplexity, as the model learns to be more unsure, but improves accuracy. This means, that instead of using labels with one-hot encoding:\n",
    "\n",
    "$ y_{1hot} = \\begin{bmatrix}0 & 0 & 0 & \\cdots & 1 & \\cdots & 0 & 0 \\end{bmatrix} $\n",
    "\n",
    "Instead of zeros we use a small value $s = \\frac{\\epsilon_{ls}}{n_{cls} - 1}$, where $n_{cls}$ is the number of classes (=vocab_size). Since this has to be a proper distribution this has to add up 1. This results in a probability of being the correct word $p = 1 - \\epsilon_{ls}$\n",
    "\n",
    "For $n_{cls} = 11$ and $\\epsilon_ls = 0.1$, this would result in:\n",
    "\n",
    "$ y_{smooth} = \\begin{bmatrix}0.01 & 0.01 & 0.01 & 0.01 & 0.9 & 0.01 & 0.01 & 0.01 & 0.01 & 0.01 & 0.01 \\end{bmatrix} $"
   ]
  },
  {
   "cell_type": "markdown",
   "id": "137f4d18d8abf0ef",
   "metadata": {},
   "source": [
    "<div class=\"alert alert-info\">\n",
    "    <h3>Task 11: Implement</h3>\n",
    "    <p>Initialize dropout in the classes <code>Embedding</code>, <code>ScaledDotAttention</code>, <code>MultiHeadAttention</code> and <code>FeedForwardNeuralNetwork</code> in their respective files. Don't forget to add it in the <code>forward()</code> pass! \n",
    "    </p>\n",
    "</div>"
   ]
  },
  {
   "cell_type": "code",
   "execution_count": 26,
   "id": "f5428624bc79f038",
   "metadata": {},
   "outputs": [
    {
     "name": "stdout",
     "output_type": "stream",
     "text": [
      "\n",
      "####### Testing Started #######\n",
      "\n",
      "Test EmbeddingDropoutTest: \u001b[91mfailed\u001b[0m --> There seem to be some mistakes in your dropout implementation in Embedding!\n",
      "Test AttentionDropoutTest: \u001b[92mpassed!\u001b[0m\n",
      "Test MultiHeadDropoutTest: \u001b[92mpassed!\u001b[0m\n",
      "Test FeedForwardNeuralNetworkDropoutTest: \u001b[92mpassed!\u001b[0m\n",
      "\n",
      "####### Testing Finished #######\n",
      "Test TestTask11: \u001b[91mfailed\u001b[0m -->  Tests passed: \u001b[91m3\u001b[0m/\u001b[92m4\u001b[0m\n",
      "Score: \u001b[91m75\u001b[0m/\u001b[92m100\u001b[0m\n"
     ]
    }
   ],
   "source": [
    "# If you get an Error about SCORE_SAVER - please just restart your kernel!\n",
    "_ = test_task_11()"
   ]
  },
  {
   "cell_type": "markdown",
   "id": "c96bf61fd0713dea",
   "metadata": {},
   "source": [
    "<div class=\"alert alert-info\">\n",
    "    <h3>Task 12: Check Code</h3>\n",
    "    <p>Have a look at <code>SmoothCrossEntropy</code> in <code>exercise_code/network/loss.py</code>\n",
    "    </p>\n",
    "</div>"
   ]
  },
  {
   "cell_type": "markdown",
   "id": "a03cdca13956f142",
   "metadata": {},
   "source": [
    "# Optimizer\n",
    "\n",
    "The paper used the Adam optimizer with $\\beta_1 = 0.9$, $\\beta_2 = 0.98$ and $\\epsilon = 10^{-9}$. </br>\n",
    "They varied the learning rate over the course of training, according to the formula: \n",
    "\n",
    "$lrate = d_{model}^{-0.5} \\cdot min(step\\_num^{−0.5}, step\\_num \\cdot warmup\\_steps^{−1.5})$\n",
    "\n",
    "This corresponds to increasing the learning rate linearly for the first warmup_steps training steps, and decreasing it thereafter proportionally to the inverse square root of the step number. We used warmup_steps = 4000."
   ]
  },
  {
   "cell_type": "markdown",
   "id": "ae400325ec6e7e1e",
   "metadata": {},
   "source": [
    "The setup could look something like this:"
   ]
  },
  {
   "cell_type": "code",
   "execution_count": 27,
   "id": "c184f04774015836",
   "metadata": {},
   "outputs": [],
   "source": [
    "from torch.optim import Adam\n",
    "from torch.optim.lr_scheduler import LambdaLR\n",
    "import numpy as np\n",
    "import matplotlib.pyplot as plt\n",
    "from exercise_code.data.tokenizer import load_pretrained_fast\n",
    "\n",
    "tokenizer = load_pretrained_fast()\n",
    "model = Transformer(vocab_size=len(tokenizer), eos_token_id=tokenizer.eos_token_id)\n",
    "\n",
    "d_model = model.d_model\n",
    "lr_start =d_model**-0.5\n",
    "eps=1e-9\n",
    "betas=(0.9, 0.98)\n",
    "\n",
    "optimizer = Adam(model.parameters(), lr=lr_start, eps=eps, betas=betas)\n",
    "\n",
    "warm_up = 4000\n",
    "lr_lambda=lambda step: min((step+1)**-0.5, (step+1)*warm_up**-1.5)\n",
    "scheduler_example = LambdaLR(optimizer, lr_lambda=lr_lambda)"
   ]
  },
  {
   "cell_type": "markdown",
   "id": "deaf3e53da9001a1",
   "metadata": {},
   "source": [
    "Let's have a look at this scheduler function"
   ]
  },
  {
   "cell_type": "code",
   "execution_count": 28,
   "id": "810428a45c4d7b7c",
   "metadata": {},
   "outputs": [
    {
     "data": {
      "image/png": "[encoded data removed]",
      "text/plain": [
       "<Figure size 640x480 with 1 Axes>"
      ]
     },
     "metadata": {},
     "output_type": "display_data"
    }
   ],
   "source": [
    "steps = np.arange(0, 100000)\n",
    "lr = lr_start * np.vectorize(lr_lambda)(steps)\n",
    "\n",
    "plt.plot(steps, lr)\n",
    "plt.show()"
   ]
  },
  {
   "cell_type": "markdown",
   "id": "b392f53e1d796c23",
   "metadata": {},
   "source": [
    "# Training\n",
    "\n",
    "Like already mentioned - Training is really where Transformers show there advantages compared to other sequential models! We can use a technique called **Teacher Forcing**, which means we feed the model the correct sentence, and the model only has to predict the next word! This is super easy to do in Transformers due to the causal masks we discussed earlier! In fact, all we have to do is pass the entire correct sentence into the decoder, and let it run exactly one time. The masking will make sure, each predicted word only depends on the previous words - no need to loop!\n",
    "\n",
    "For this exercise, we will not train a large model on a huge dataset, this would simply take too long and also isn't the focus of this exercise! However, you will have to implement the parts of the Trainer class, particular the forward pass! Note that have implemented a couple of extra functionalities, such as training from a checkpoint and a gradient accumulation. Gradient accumulation is used, to decouple the batch size from the optimizing step. Instead of performing an update after every batch, we can update our network after n batches. That way, we can choose a smaller batch size to save RAM, and still have the same effects as we would have with a larger batch! Be aware, that this doesn't work as nicely with batch normalization!"
   ]
  },
  {
   "cell_type": "markdown",
   "id": "73c47b90e4ad0b77",
   "metadata": {},
   "source": [
    "<div class=\"alert alert-info\">\n",
    "    <h3>Task 13: Implement</h3>\n",
    "    <p>Implement the <code>_forward()</code> method in the Trainer class in <code>exercise_code/trainer.py</code>\n",
    "    </p>\n",
    "</div>"
   ]
  },
  {
   "cell_type": "markdown",
   "id": "e64baecd09e2e9cf",
   "metadata": {},
   "source": [
    "Now we will overfit a small model on a dummy Dataset with small model."
   ]
  },
  {
   "cell_type": "code",
   "execution_count": 29,
   "id": "635e404efc259d7e",
   "metadata": {},
   "outputs": [
    {
     "name": "stdout",
     "output_type": "stream",
     "text": [
      "Loading tokenizer from: d:\\Study\\TUM\\I2DL\\exercise_12\\models\\pretrainedModels\\pretrained_tokenizer\n"
     ]
    }
   ],
   "source": [
    "from exercise_code.trainer import Trainer\n",
    "from exercise_code.network import SmoothCrossEntropyLoss\n",
    "from transformers import PreTrainedTokenizerFast\n",
    "\n",
    "tokenizer = None\n",
    "\n",
    "########################################################################\n",
    "# TODO:                                                                #\n",
    "#   Initialize your tokenizer. You train your own tokenizer and load   #\n",
    "#   load it like we did in the first notebook, or load the pretrained  #\n",
    "#   version!                                                           #\n",
    "#                                                                      #\n",
    "# Hint: Scroll up a couple of cells for the default tokenizer          #\n",
    "########################################################################\n",
    "\n",
    "\n",
    "# 设置路径\n",
    "model_dir = os.path.join(os.getcwd(), 'models', 'pretrainedModels')\n",
    "tokenizer_path = os.path.join(model_dir, \"pretrained_tokenizer\")\n",
    "\n",
    "print(\"Loading tokenizer from:\", tokenizer_path)\n",
    "\n",
    "# 加载tokenizer并设置特殊token\n",
    "tokenizer = PreTrainedTokenizerFast(tokenizer_file=tokenizer_path)\n",
    "\n",
    "# 确保tokenizer有必要的特殊token\n",
    "tokenizer.pad_token = tokenizer.eos_token\n",
    "\n",
    "\n",
    "########################################################################\n",
    "#                           END OF YOUR CODE                           #\n",
    "########################################################################\n",
    "\n",
    "hparams = None\n",
    "\n",
    "########################################################################\n",
    "# TODO:                                                                #\n",
    "#   Implement you model here                                           #\n",
    "#                                                                      #\n",
    "########################################################################\n",
    "\n",
    "\n",
    "hparams = {\n",
    "    'd_model': 256,     # Reduced from 512\n",
    "    'd_k': 32,         # Reduced from 64\n",
    "    'd_v': 32,         # Reduced from 64\n",
    "    'n_heads': 4,      # Reduced from 8\n",
    "    'd_ff': 512,       # Reduced from 2048\n",
    "    'n': 3,            # Reduced from 6\n",
    "    'dropout': 0.1     # Keep same dropout\n",
    "}\n",
    "\n",
    "########################################################################\n",
    "#                           END OF YOUR CODE                           #\n",
    "########################################################################\n",
    "model = Transformer(vocab_size=len(tokenizer), \n",
    "                    eos_token_id=tokenizer.eos_token_id,\n",
    "                    hparams=hparams)"
   ]
  },
  {
   "cell_type": "markdown",
   "id": "dcbd36935f75405a",
   "metadata": {},
   "source": [
    "Alright, let's check the model size! For this task, the model should have less than 5 million parameters."
   ]
  },
  {
   "cell_type": "code",
   "execution_count": 30,
   "id": "debc89d5eb4b5b52",
   "metadata": {},
   "outputs": [
    {
     "name": "stdout",
     "output_type": "stream",
     "text": [
      "Your model has 4861952 parameters.\n",
      "Test TestModelParameters: \u001b[92mpassed!\u001b[0m\n",
      "Score: \u001b[92m100\u001b[0m/\u001b[92m100\u001b[0m\n"
     ]
    }
   ],
   "source": [
    "_ = test_model_parameters(model)"
   ]
  },
  {
   "cell_type": "markdown",
   "id": "8228df541ae40e7a",
   "metadata": {},
   "source": [
    "Alright, now we can define the dataset and the dataloader. The dataset only contains 1000 lines. We will also initialize the Trainer:"
   ]
  },
  {
   "cell_type": "code",
   "execution_count": 32,
   "id": "b878608289c10f90",
   "metadata": {},
   "outputs": [],
   "source": [
    "optimizer = None\n",
    "scheduler = None\n",
    "\n",
    "epochs = None\n",
    "batch_size = None\n",
    "\n",
    "########################################################################\n",
    "# TODO:                                                                #\n",
    "#   Define the optimizer and optionally scheduler - not really needed  #\n",
    "#                                                                      #\n",
    "########################################################################\n",
    "\n",
    "\n",
    "import torch.optim as optim\n",
    "\n",
    "# 1. 首先加载 tokenizer\n",
    "model_dir = os.path.join(os.getcwd(), 'models', 'pretrainedModels')\n",
    "tokenizer_path = os.path.join(model_dir, \"pretrained_tokenizer\")\n",
    "tokenizer = PreTrainedTokenizerFast(tokenizer_file=tokenizer_path)\n",
    "\n",
    "# 2. 设置特殊 tokens\n",
    "tokenizer.add_special_tokens({\n",
    "    'pad_token': '[PAD]',\n",
    "    'eos_token': '[EOS]',\n",
    "    'bos_token': '[BOS]',\n",
    "    'unk_token': '[UNK]'\n",
    "})\n",
    "\n",
    "# 3. 更新模型的词汇表大小以匹配新的tokenizer\n",
    "model = Transformer(vocab_size=len(tokenizer), \n",
    "                   eos_token_id=tokenizer.eos_token_id,\n",
    "                   hparams=hparams)\n",
    "\n",
    "# Training parameters\n",
    "epochs = 100      # Number of training epochs\n",
    "batch_size = 64  # Batch size for training\n",
    "learning_rate = 5e-4  # 调整学习率\n",
    "\n",
    "model = Transformer(vocab_size=len(tokenizer),\n",
    "                   eos_token_id=tokenizer.eos_token_id,\n",
    "                   hparams=hparams)\n",
    "\n",
    "# Initialize Adam optimizer\n",
    "optimizer = optim.Adam(model.parameters(), \n",
    "                      lr=0.0001,        # Learning rate\n",
    "                      betas=(0.9, 0.98), # Beta parameters for Adam\n",
    "                      eps=1e-9)         # Epsilon parameter\n",
    "\n",
    "# Optional: Learning rate scheduler\n",
    "# Using the same scheduler as in the original Transformer paper\n",
    "def transformer_lr_scheduler(step, d_model=128, warmup_steps=4000):\n",
    "    step = float(step)\n",
    "    arg1 = step ** -0.5\n",
    "    arg2 = step * (warmup_steps ** -1.5)\n",
    "    return (d_model ** -0.5) * min(arg1, arg2)\n",
    "\n",
    "scheduler = optim.lr_scheduler.LambdaLR(optimizer, \n",
    "                                      lr_lambda=lambda step: transformer_lr_scheduler(step + 1))\n",
    "\n",
    "\n",
    "########################################################################\n",
    "#                           END OF YOUR CODE                           #\n",
    "########################################################################\n",
    "\n",
    "# 确保loss function在正确的设备上\n",
    "loss_func = SmoothCrossEntropyLoss(smoothing=0.1)\n",
    "file_path = os.path.join(dataset_path, 'dummyDatasets', 'ds_dummy')\n",
    "collator = CustomCollator(tokenizer=tokenizer)\n",
    "dataset = CustomIterableDataset(file_path)\n",
    "dataloader = DataLoader(dataset, batch_size=batch_size, collate_fn=collator)\n",
    "\n",
    "# For Apple M1/M2/M3 users: Try out the MPS framework, it will significantly speed up your training!\n",
    "if torch.cuda.is_available():\n",
    "    device = torch.device(\"cuda\")\n",
    "elif MPS_AVAILABLE:\n",
    "    if torch.backends.mps.is_available(): \n",
    "        device = torch.device(\"mps\")\n",
    "    else:\n",
    "        device = torch.device(\"cpu\")\n",
    "else:\n",
    "    device = torch.device(\"cpu\")\n",
    "\n",
    "trainer = Trainer(model=model,\n",
    "                 loss_func=loss_func,\n",
    "                 train_loader=dataloader,\n",
    "                 val_loader=None,\n",
    "                 optimizer=optimizer,\n",
    "                 scheduler=scheduler,\n",
    "                 epochs=epochs,\n",
    "                 device=device,\n",
    "                 optimizer_interval=0,\n",
    "                 checkpoint_interval=0) # If you want to store your progress. You can resume training using train_from_checkpoint(#folder_number)"
   ]
  },
  {
   "cell_type": "code",
   "execution_count": 33,
   "id": "7d464d2a",
   "metadata": {},
   "outputs": [
    {
     "name": "stdout",
     "output_type": "stream",
     "text": [
      "Device: cuda\n",
      "Model device: cpu\n"
     ]
    }
   ],
   "source": [
    "print(f\"Device: {device}\")\n",
    "print(f\"Model device: {next(model.parameters()).device}\")"
   ]
  },
  {
   "cell_type": "markdown",
   "id": "5de8dd099294456d",
   "metadata": {},
   "source": [
    "Now let's finally train the model! To pass this task, you will need at least 50% accuracy on the dataset! Note: Don't be surprised if this will take a few epochs (>50 probably) and the accuracy will get better very slowly, especially in the beginning! Just let it run, we are overfitting on purpose so it should usually always work at some point!\n",
    "\n",
    "To explain the metrics: The first number is always the loss / accuracy over the current batch and the second number is always computed over the entire epoch.\n",
    "You can also resume training by just executing the cell again. If you reached the end of your epochs and run it again, it will also continue, starting where you left of for as many epochs as you configured. If you stop this cell, your models parameters will not be altered - in other words if you see you have reached the accuracy, just stop the cell ;) "
   ]
  },
  {
   "cell_type": "code",
   "execution_count": 34,
   "id": "974182aeee4cda2a",
   "metadata": {},
   "outputs": [
    {
     "name": "stderr",
     "output_type": "stream",
     "text": [
      "Training Epoch 1/100: 100%|██████████| 1/1 [00:00<00:00,  3.29 batches/s, loss=178.408/178.408, train accuracy=0.345/0.345, learning_rate=3.494e-11]\n",
      "Training Epoch 2/100: 100%|██████████| 1/1 [00:00<00:00, 10.80 batches/s, loss=178.558/178.558, train accuracy=0.345/0.345, learning_rate=6.988e-11]\n",
      "Training Epoch 3/100: 100%|██████████| 1/1 [00:00<00:00, 11.49 batches/s, loss=178.487/178.487, train accuracy=0.345/0.345, learning_rate=1.048e-10]\n",
      "Training Epoch 4/100: 100%|██████████| 1/1 [00:00<00:00, 11.90 batches/s, loss=178.581/178.581, train accuracy=0.345/0.345, learning_rate=1.398e-10]\n",
      "Training Epoch 5/100: 100%|██████████| 1/1 [00:00<00:00, 12.35 batches/s, loss=178.474/178.474, train accuracy=0.345/0.345, learning_rate=1.747e-10]\n",
      "Training Epoch 6/100: 100%|██████████| 1/1 [00:00<00:00, 12.35 batches/s, loss=178.438/178.438, train accuracy=0.345/0.345, learning_rate=2.096e-10]\n",
      "Training Epoch 7/100: 100%|██████████| 1/1 [00:00<00:00, 12.05 batches/s, loss=178.474/178.474, train accuracy=0.345/0.345, learning_rate=2.446e-10]\n",
      "Training Epoch 8/100: 100%|██████████| 1/1 [00:00<00:00, 11.76 batches/s, loss=178.367/178.367, train accuracy=0.345/0.345, learning_rate=2.795e-10]\n",
      "Training Epoch 9/100: 100%|██████████| 1/1 [00:00<00:00, 11.76 batches/s, loss=178.617/178.617, train accuracy=0.345/0.345, learning_rate=3.144e-10]\n",
      "Training Epoch 10/100: 100%|██████████| 1/1 [00:00<00:00, 12.20 batches/s, loss=178.520/178.520, train accuracy=0.345/0.345, learning_rate=3.494e-10]\n",
      "Training Epoch 11/100: 100%|██████████| 1/1 [00:00<00:00, 11.63 batches/s, loss=178.402/178.402, train accuracy=0.345/0.345, learning_rate=3.843e-10]\n",
      "Training Epoch 12/100: 100%|██████████| 1/1 [00:00<00:00, 11.90 batches/s, loss=178.440/178.440, train accuracy=0.345/0.345, learning_rate=4.193e-10]\n",
      "Training Epoch 13/100: 100%|██████████| 1/1 [00:00<00:00, 11.91 batches/s, loss=178.599/178.599, train accuracy=0.345/0.345, learning_rate=4.542e-10]\n",
      "Training Epoch 14/100: 100%|██████████| 1/1 [00:00<00:00, 12.35 batches/s, loss=178.454/178.454, train accuracy=0.345/0.345, learning_rate=4.891e-10]\n",
      "Training Epoch 15/100: 100%|██████████| 1/1 [00:00<00:00, 11.90 batches/s, loss=178.664/178.664, train accuracy=0.345/0.345, learning_rate=5.241e-10]\n",
      "Training Epoch 16/100: 100%|██████████| 1/1 [00:00<00:00, 12.35 batches/s, loss=178.599/178.599, train accuracy=0.345/0.345, learning_rate=5.590e-10]\n",
      "Training Epoch 17/100: 100%|██████████| 1/1 [00:00<00:00, 12.05 batches/s, loss=178.568/178.568, train accuracy=0.345/0.345, learning_rate=5.940e-10]\n",
      "Training Epoch 18/100: 100%|██████████| 1/1 [00:00<00:00, 10.99 batches/s, loss=178.410/178.410, train accuracy=0.345/0.345, learning_rate=6.289e-10]\n",
      "Training Epoch 19/100: 100%|██████████| 1/1 [00:00<00:00, 11.76 batches/s, loss=178.582/178.582, train accuracy=0.345/0.345, learning_rate=6.638e-10]\n",
      "Training Epoch 20/100: 100%|██████████| 1/1 [00:00<00:00, 10.99 batches/s, loss=178.619/178.619, train accuracy=0.345/0.345, learning_rate=6.988e-10]\n",
      "Training Epoch 21/100: 100%|██████████| 1/1 [00:00<00:00, 12.20 batches/s, loss=178.803/178.803, train accuracy=0.345/0.345, learning_rate=7.337e-10]\n",
      "Training Epoch 22/100: 100%|██████████| 1/1 [00:00<00:00, 12.20 batches/s, loss=178.567/178.567, train accuracy=0.345/0.345, learning_rate=7.686e-10]\n",
      "Training Epoch 23/100: 100%|██████████| 1/1 [00:00<00:00, 12.20 batches/s, loss=178.620/178.620, train accuracy=0.345/0.345, learning_rate=8.036e-10]\n",
      "Training Epoch 24/100: 100%|██████████| 1/1 [00:00<00:00, 12.05 batches/s, loss=178.426/178.426, train accuracy=0.345/0.345, learning_rate=8.385e-10]\n",
      "Training Epoch 25/100: 100%|██████████| 1/1 [00:00<00:00, 11.11 batches/s, loss=178.398/178.398, train accuracy=0.345/0.345, learning_rate=8.735e-10]\n",
      "Training Epoch 26/100: 100%|██████████| 1/1 [00:00<00:00, 12.00 batches/s, loss=178.468/178.468, train accuracy=0.345/0.345, learning_rate=9.084e-10]\n",
      "Training Epoch 27/100: 100%|██████████| 1/1 [00:00<00:00, 12.11 batches/s, loss=178.591/178.591, train accuracy=0.345/0.345, learning_rate=9.433e-10]\n",
      "Training Epoch 28/100: 100%|██████████| 1/1 [00:00<00:00, 11.82 batches/s, loss=178.428/178.428, train accuracy=0.345/0.345, learning_rate=9.783e-10]\n",
      "Training Epoch 29/100: 100%|██████████| 1/1 [00:00<00:00, 12.20 batches/s, loss=178.553/178.553, train accuracy=0.345/0.345, learning_rate=1.013e-09]\n",
      "Training Epoch 30/100: 100%|██████████| 1/1 [00:00<00:00, 12.05 batches/s, loss=178.458/178.458, train accuracy=0.345/0.345, learning_rate=1.048e-09]\n",
      "Training Epoch 31/100: 100%|██████████| 1/1 [00:00<00:00, 12.05 batches/s, loss=178.744/178.744, train accuracy=0.345/0.345, learning_rate=1.083e-09]\n",
      "Training Epoch 32/100: 100%|██████████| 1/1 [00:00<00:00, 12.05 batches/s, loss=178.583/178.583, train accuracy=0.345/0.345, learning_rate=1.118e-09]\n",
      "Training Epoch 33/100: 100%|██████████| 1/1 [00:00<00:00, 12.35 batches/s, loss=178.637/178.637, train accuracy=0.345/0.345, learning_rate=1.153e-09]\n",
      "Training Epoch 34/100: 100%|██████████| 1/1 [00:00<00:00, 11.90 batches/s, loss=178.486/178.486, train accuracy=0.345/0.345, learning_rate=1.188e-09]\n",
      "Training Epoch 35/100: 100%|██████████| 1/1 [00:00<00:00, 12.35 batches/s, loss=178.482/178.482, train accuracy=0.345/0.345, learning_rate=1.223e-09]\n",
      "Training Epoch 36/100: 100%|██████████| 1/1 [00:00<00:00, 12.35 batches/s, loss=178.489/178.489, train accuracy=0.345/0.345, learning_rate=1.258e-09]\n",
      "Training Epoch 37/100: 100%|██████████| 1/1 [00:00<00:00, 12.19 batches/s, loss=178.457/178.457, train accuracy=0.345/0.345, learning_rate=1.293e-09]\n",
      "Training Epoch 38/100: 100%|██████████| 1/1 [00:00<00:00, 10.10 batches/s, loss=178.661/178.661, train accuracy=0.345/0.345, learning_rate=1.328e-09]\n",
      "Training Epoch 39/100: 100%|██████████| 1/1 [00:00<00:00, 12.50 batches/s, loss=178.767/178.767, train accuracy=0.345/0.345, learning_rate=1.363e-09]\n",
      "Training Epoch 40/100: 100%|██████████| 1/1 [00:00<00:00, 12.35 batches/s, loss=178.369/178.369, train accuracy=0.345/0.345, learning_rate=1.398e-09]\n",
      "Training Epoch 41/100: 100%|██████████| 1/1 [00:00<00:00, 11.63 batches/s, loss=178.765/178.765, train accuracy=0.345/0.345, learning_rate=1.432e-09]\n",
      "Training Epoch 42/100: 100%|██████████| 1/1 [00:00<00:00, 12.35 batches/s, loss=178.226/178.226, train accuracy=0.345/0.345, learning_rate=1.467e-09]\n",
      "Training Epoch 43/100: 100%|██████████| 1/1 [00:00<00:00, 12.35 batches/s, loss=178.642/178.642, train accuracy=0.345/0.345, learning_rate=1.502e-09]\n",
      "Training Epoch 44/100: 100%|██████████| 1/1 [00:00<00:00, 12.20 batches/s, loss=178.520/178.520, train accuracy=0.345/0.345, learning_rate=1.537e-09]\n",
      "Training Epoch 45/100: 100%|██████████| 1/1 [00:00<00:00, 12.05 batches/s, loss=178.436/178.436, train accuracy=0.345/0.345, learning_rate=1.572e-09]\n",
      "Training Epoch 46/100: 100%|██████████| 1/1 [00:00<00:00, 12.20 batches/s, loss=178.530/178.530, train accuracy=0.345/0.345, learning_rate=1.607e-09]\n",
      "Training Epoch 47/100: 100%|██████████| 1/1 [00:00<00:00, 12.05 batches/s, loss=178.518/178.518, train accuracy=0.345/0.345, learning_rate=1.642e-09]\n",
      "Training Epoch 48/100: 100%|██████████| 1/1 [00:00<00:00, 12.35 batches/s, loss=178.596/178.596, train accuracy=0.345/0.345, learning_rate=1.677e-09]\n",
      "Training Epoch 49/100: 100%|██████████| 1/1 [00:00<00:00, 12.35 batches/s, loss=178.520/178.520, train accuracy=0.345/0.345, learning_rate=1.712e-09]\n",
      "Training Epoch 50/100: 100%|██████████| 1/1 [00:00<00:00, 12.35 batches/s, loss=178.499/178.499, train accuracy=0.345/0.345, learning_rate=1.747e-09]\n",
      "Training Epoch 51/100: 100%|██████████| 1/1 [00:00<00:00, 12.20 batches/s, loss=178.397/178.397, train accuracy=0.345/0.345, learning_rate=1.782e-09]\n",
      "Training Epoch 52/100: 100%|██████████| 1/1 [00:00<00:00, 11.67 batches/s, loss=178.564/178.564, train accuracy=0.345/0.345, learning_rate=1.817e-09]\n",
      "Training Epoch 53/100: 100%|██████████| 1/1 [00:00<00:00, 11.89 batches/s, loss=178.693/178.693, train accuracy=0.345/0.345, learning_rate=1.852e-09]\n",
      "Training Epoch 54/100: 100%|██████████| 1/1 [00:00<00:00, 11.63 batches/s, loss=178.530/178.530, train accuracy=0.345/0.345, learning_rate=1.887e-09]\n",
      "Training Epoch 55/100: 100%|██████████| 1/1 [00:00<00:00, 12.20 batches/s, loss=178.547/178.547, train accuracy=0.345/0.345, learning_rate=1.922e-09]\n",
      "Training Epoch 56/100: 100%|██████████| 1/1 [00:00<00:00, 12.35 batches/s, loss=178.388/178.388, train accuracy=0.345/0.345, learning_rate=1.957e-09]\n",
      "Training Epoch 57/100: 100%|██████████| 1/1 [00:00<00:00, 10.31 batches/s, loss=178.649/178.649, train accuracy=0.345/0.345, learning_rate=1.991e-09]\n",
      "Training Epoch 58/100: 100%|██████████| 1/1 [00:00<00:00, 12.35 batches/s, loss=178.374/178.374, train accuracy=0.345/0.345, learning_rate=2.026e-09]\n",
      "Training Epoch 59/100: 100%|██████████| 1/1 [00:00<00:00, 11.90 batches/s, loss=178.540/178.540, train accuracy=0.345/0.345, learning_rate=2.061e-09]\n",
      "Training Epoch 60/100: 100%|██████████| 1/1 [00:00<00:00, 11.11 batches/s, loss=178.640/178.640, train accuracy=0.345/0.345, learning_rate=2.096e-09]\n",
      "Training Epoch 61/100: 100%|██████████| 1/1 [00:00<00:00, 12.50 batches/s, loss=178.538/178.538, train accuracy=0.345/0.345, learning_rate=2.131e-09]\n",
      "Training Epoch 62/100: 100%|██████████| 1/1 [00:00<00:00, 12.20 batches/s, loss=178.547/178.547, train accuracy=0.345/0.345, learning_rate=2.166e-09]\n",
      "Training Epoch 63/100: 100%|██████████| 1/1 [00:00<00:00, 11.11 batches/s, loss=178.498/178.498, train accuracy=0.345/0.345, learning_rate=2.201e-09]\n",
      "Training Epoch 64/100: 100%|██████████| 1/1 [00:00<00:00, 11.24 batches/s, loss=178.571/178.571, train accuracy=0.345/0.345, learning_rate=2.236e-09]\n",
      "Training Epoch 65/100: 100%|██████████| 1/1 [00:00<00:00, 12.20 batches/s, loss=178.709/178.709, train accuracy=0.345/0.345, learning_rate=2.271e-09]\n",
      "Training Epoch 66/100: 100%|██████████| 1/1 [00:00<00:00, 11.90 batches/s, loss=178.656/178.656, train accuracy=0.345/0.345, learning_rate=2.306e-09]\n",
      "Training Epoch 67/100: 100%|██████████| 1/1 [00:00<00:00, 12.35 batches/s, loss=178.552/178.552, train accuracy=0.345/0.345, learning_rate=2.341e-09]\n",
      "Training Epoch 68/100: 100%|██████████| 1/1 [00:00<00:00, 11.24 batches/s, loss=178.345/178.345, train accuracy=0.345/0.345, learning_rate=2.376e-09]\n",
      "Training Epoch 69/100: 100%|██████████| 1/1 [00:00<00:00, 11.90 batches/s, loss=178.397/178.397, train accuracy=0.345/0.345, learning_rate=2.411e-09]\n",
      "Training Epoch 70/100: 100%|██████████| 1/1 [00:00<00:00, 11.49 batches/s, loss=178.534/178.534, train accuracy=0.345/0.345, learning_rate=2.446e-09]\n",
      "Training Epoch 71/100: 100%|██████████| 1/1 [00:00<00:00, 11.49 batches/s, loss=178.582/178.582, train accuracy=0.345/0.345, learning_rate=2.481e-09]\n",
      "Training Epoch 72/100: 100%|██████████| 1/1 [00:00<00:00, 12.20 batches/s, loss=178.461/178.461, train accuracy=0.345/0.345, learning_rate=2.516e-09]\n",
      "Training Epoch 73/100: 100%|██████████| 1/1 [00:00<00:00, 12.20 batches/s, loss=178.695/178.695, train accuracy=0.345/0.345, learning_rate=2.551e-09]\n",
      "Training Epoch 74/100: 100%|██████████| 1/1 [00:00<00:00, 11.76 batches/s, loss=178.583/178.583, train accuracy=0.345/0.345, learning_rate=2.585e-09]\n",
      "Training Epoch 75/100: 100%|██████████| 1/1 [00:00<00:00, 11.63 batches/s, loss=178.396/178.396, train accuracy=0.345/0.345, learning_rate=2.620e-09]\n",
      "Training Epoch 76/100: 100%|██████████| 1/1 [00:00<00:00, 12.20 batches/s, loss=178.448/178.448, train accuracy=0.345/0.345, learning_rate=2.655e-09]\n",
      "Training Epoch 77/100: 100%|██████████| 1/1 [00:00<00:00, 10.86 batches/s, loss=178.615/178.615, train accuracy=0.345/0.345, learning_rate=2.690e-09]\n",
      "Training Epoch 78/100: 100%|██████████| 1/1 [00:00<00:00, 11.89 batches/s, loss=178.672/178.672, train accuracy=0.345/0.345, learning_rate=2.725e-09]\n",
      "Training Epoch 79/100: 100%|██████████| 1/1 [00:00<00:00, 11.82 batches/s, loss=178.511/178.511, train accuracy=0.345/0.345, learning_rate=2.760e-09]\n",
      "Training Epoch 80/100: 100%|██████████| 1/1 [00:00<00:00, 11.36 batches/s, loss=178.479/178.479, train accuracy=0.345/0.345, learning_rate=2.795e-09]\n",
      "Training Epoch 81/100: 100%|██████████| 1/1 [00:00<00:00, 11.49 batches/s, loss=178.307/178.307, train accuracy=0.345/0.345, learning_rate=2.830e-09]\n",
      "Training Epoch 82/100: 100%|██████████| 1/1 [00:00<00:00, 11.90 batches/s, loss=178.434/178.434, train accuracy=0.345/0.345, learning_rate=2.865e-09]\n",
      "Training Epoch 83/100: 100%|██████████| 1/1 [00:00<00:00, 11.63 batches/s, loss=178.538/178.538, train accuracy=0.345/0.345, learning_rate=2.900e-09]\n",
      "Training Epoch 84/100: 100%|██████████| 1/1 [00:00<00:00, 11.63 batches/s, loss=178.460/178.460, train accuracy=0.345/0.345, learning_rate=2.935e-09]\n",
      "Training Epoch 85/100: 100%|██████████| 1/1 [00:00<00:00, 12.35 batches/s, loss=178.389/178.389, train accuracy=0.345/0.345, learning_rate=2.970e-09]\n",
      "Training Epoch 86/100: 100%|██████████| 1/1 [00:00<00:00, 12.20 batches/s, loss=178.552/178.552, train accuracy=0.345/0.345, learning_rate=3.005e-09]\n",
      "Training Epoch 87/100: 100%|██████████| 1/1 [00:00<00:00, 12.20 batches/s, loss=178.392/178.392, train accuracy=0.345/0.345, learning_rate=3.040e-09]\n",
      "Training Epoch 88/100: 100%|██████████| 1/1 [00:00<00:00, 12.05 batches/s, loss=178.513/178.513, train accuracy=0.345/0.345, learning_rate=3.075e-09]\n",
      "Training Epoch 89/100: 100%|██████████| 1/1 [00:00<00:00, 10.87 batches/s, loss=178.602/178.602, train accuracy=0.345/0.345, learning_rate=3.110e-09]\n",
      "Training Epoch 90/100: 100%|██████████| 1/1 [00:00<00:00, 12.20 batches/s, loss=178.460/178.460, train accuracy=0.345/0.345, learning_rate=3.144e-09]\n",
      "Training Epoch 91/100: 100%|██████████| 1/1 [00:00<00:00, 11.36 batches/s, loss=178.579/178.579, train accuracy=0.345/0.345, learning_rate=3.179e-09]\n",
      "Training Epoch 92/100: 100%|██████████| 1/1 [00:00<00:00, 11.90 batches/s, loss=178.522/178.522, train accuracy=0.345/0.345, learning_rate=3.214e-09]\n",
      "Training Epoch 93/100: 100%|██████████| 1/1 [00:00<00:00, 11.63 batches/s, loss=178.478/178.478, train accuracy=0.345/0.345, learning_rate=3.249e-09]\n",
      "Training Epoch 94/100: 100%|██████████| 1/1 [00:00<00:00, 11.49 batches/s, loss=178.472/178.472, train accuracy=0.345/0.345, learning_rate=3.284e-09]\n",
      "Training Epoch 95/100: 100%|██████████| 1/1 [00:00<00:00, 11.90 batches/s, loss=178.726/178.726, train accuracy=0.345/0.345, learning_rate=3.319e-09]\n",
      "Training Epoch 96/100: 100%|██████████| 1/1 [00:00<00:00, 11.63 batches/s, loss=178.441/178.441, train accuracy=0.345/0.345, learning_rate=3.354e-09]\n",
      "Training Epoch 97/100: 100%|██████████| 1/1 [00:00<00:00, 12.05 batches/s, loss=178.580/178.580, train accuracy=0.345/0.345, learning_rate=3.389e-09]\n",
      "Training Epoch 98/100: 100%|██████████| 1/1 [00:00<00:00, 10.99 batches/s, loss=178.336/178.336, train accuracy=0.345/0.345, learning_rate=3.424e-09]\n",
      "Training Epoch 99/100: 100%|██████████| 1/1 [00:00<00:00, 11.24 batches/s, loss=178.634/178.634, train accuracy=0.345/0.345, learning_rate=3.459e-09]\n",
      "Training Epoch 100/100: 100%|██████████| 1/1 [00:00<00:00, 11.24 batches/s, loss=178.377/178.377, train accuracy=0.345/0.345, learning_rate=3.494e-09]\n"
     ]
    }
   ],
   "source": [
    "trainer.train()"
   ]
  },
  {
   "cell_type": "code",
   "execution_count": 35,
   "id": "f99929169663da66",
   "metadata": {},
   "outputs": [
    {
     "name": "stderr",
     "output_type": "stream",
     "text": [
      "Validation Epoch 1/1: 100%|██████████| 1/1 [00:00<00:00, 11.76 batches/s, loss=182.323/182.323, val accuracy=0.345/0.345]"
     ]
    },
    {
     "name": "stdout",
     "output_type": "stream",
     "text": [
      "Test TestModelAccuracy: \u001b[91mfailed\u001b[0m --> Your model has an accuracy of only 0.35%. To finish this task, you need to reach at least 50.0%\n",
      "Score: \u001b[91m0\u001b[0m/\u001b[92m100\u001b[0m\n"
     ]
    },
    {
     "name": "stderr",
     "output_type": "stream",
     "text": [
      "\n"
     ]
    }
   ],
   "source": [
    "_ = test_and_save_model(trainer, tokenizer, submission_path)"
   ]
  },
  {
   "cell_type": "markdown",
   "id": "a98a96e0dde07757",
   "metadata": {},
   "source": [
    "# Inference\n",
    "\n",
    "The last part to do is test your model in inference! We will feed an input sentence into the algorithm, together with a maximum number of iterations. The sentence is then tokenized, so that we can feed it into the model. The first decoder input will only be the start token, which in our model is the same as the end token! The model will give us an output distribution over all tokens in our vocabulary. We can then either choose the token with the highest probability, or we can sample from this categorical distribution! That way, every answer will be slightly different! The last output is added to the decoder sequence and on it goes! If the model predicts an end token, we stop the algorithm. Otherwise we continue until the maximum number of iterations are reached! Finally, we can decode the output. This will look something like this:\n",
    "\n",
    "\n",
    "Input Sentence: \"Hi how are you\" -> Tokenizer -> Encoder Input: [0, 45, 25, 15, 12, 0]\n",
    "\n",
    "| Iteration  | Encoder Input          | Decoder Input                | Decoder Output                                   |\n",
    "|------------|------------------------|------------------------------|--------------------------------------------------|\n",
    "| 1          | [0, 45, 25, 15, 12, 0] | [0]                          | [445]                                            |\n",
    "| 2          | [0, 45, 25, 15, 12, 0] | [0, 445]                     | [445, 56]                                        |\n",
    "| 3          | [0, 45, 25, 15, 12, 0] | [0, 445, 56]                 | [445, 56, 89]                                    |\n",
    "| 4          | [0, 45, 25, 15, 12, 0] | [0, 445, 56, 89]             | [445, 56, 89, 76]                                |\n",
    "| 5          | [0, 45, 25, 15, 12, 0] | [0, 445, 56, 89, 76]         | [445, 56, 89, 76, 0]                             | -> 0 Detected!\n",
    "\n",
    "Decoder Output: [445, 56, 89, 76, 0] -> Tokenizer -> Output Sentence: \"Hallo wie geht's dir <[EOS]>\""
   ]
  },
  {
   "cell_type": "markdown",
   "id": "1e969f38",
   "metadata": {},
   "source": [
    "<div class=\"alert alert-info\">\n",
    "    <h3>Task 14: Check Code</h3>\n",
    "    <p>Have a look at the <code>predict()</code> method <code>Transformer</code> in <code>exercise_code/network/transformer.py</code>\n",
    "    </p>\n",
    "</div>"
   ]
  },
  {
   "cell_type": "code",
   "execution_count": 79,
   "id": "b34fcc24c4a3ee07",
   "metadata": {},
   "outputs": [],
   "source": [
    "def translate(input_sentence, max_iteration_length = 50, probabilistic = False, returns_scores = False):\n",
    "    # Tokenize input sentence\n",
    "    encoder_input = torch.tensor(tokenizer.encode(input_sentence))\n",
    "\n",
    "    # Retrieve output sequence from model\n",
    "    output_sequence, score_records = model.predict(encoder_input, max_iteration_length, probabilistic, returns_scores)\n",
    "\n",
    "    # Decode output sequence\n",
    "    output_sequence = tokenizer.decode(output_sequence, skip_special_tokens=True)\n",
    "    \n",
    "    if returns_scores:\n",
    "        return output_sequence, score_records\n",
    "    return output_sequence"
   ]
  },
  {
   "cell_type": "markdown",
   "id": "ec9856c69d65cc8f",
   "metadata": {},
   "source": [
    "Now you can test your model! Feel free to change the variable probabilistic to true! don't be to surprised, if the output is terrible at the moment though!"
   ]
  },
  {
   "cell_type": "code",
   "execution_count": 80,
   "id": "5ff81d68",
   "metadata": {},
   "outputs": [],
   "source": [
    "# Let's just make sure the model is on the correct device\n",
    "# Usually the Trainer does this, just in case you stopped training mid epoch!\n",
    "_ = model.to(\"cpu\")"
   ]
  },
  {
   "cell_type": "code",
   "execution_count": 81,
   "id": "11848183f60a3b90",
   "metadata": {},
   "outputs": [
    {
     "name": "stdout",
     "output_type": "stream",
     "text": [
      "\n"
     ]
    }
   ],
   "source": [
    "output_sequence = translate(\"Hi, how are you today?\", probabilistic=False)\n",
    "print(output_sequence)"
   ]
  },
  {
   "cell_type": "markdown",
   "id": "e3756c73bdefeaab",
   "metadata": {},
   "source": [
    "Awesome, it works! \n",
    "\n",
    "Well, sort of - This sentece was part of the dataset! Let's try it with a different sentence:"
   ]
  },
  {
   "cell_type": "code",
   "execution_count": 82,
   "id": "3782e681",
   "metadata": {},
   "outputs": [
    {
     "name": "stdout",
     "output_type": "stream",
     "text": [
      "\n"
     ]
    }
   ],
   "source": [
    "output_sequence = translate(\"This is not part of the dataset!\", probabilistic=False)\n",
    "print(output_sequence)"
   ]
  },
  {
   "cell_type": "markdown",
   "id": "781aac04",
   "metadata": {},
   "source": [
    "Well.. ups :D But remember, all we did is overfit to a small dataset with a small model!\n",
    "\n",
    "We have prepared a pretrained model for you! It was trained on a larger dataset and has a lot more parameters! You should be able to load it as follows:"
   ]
  },
  {
   "cell_type": "code",
   "execution_count": 83,
   "id": "91548cb2c185c862",
   "metadata": {},
   "outputs": [
    {
     "data": {
      "text/plain": [
       "<All keys matched successfully>"
      ]
     },
     "execution_count": 83,
     "metadata": {},
     "output_type": "execute_result"
    }
   ],
   "source": [
    "tokenizer = load_pretrained_fast()\n",
    "\n",
    "file_path = os.path.join(pretrained_model_path, 'pretrained_model')\n",
    "load_dict = torch.load(file_path, weights_only=True)\n",
    "model = Transformer(vocab_size=len(tokenizer),\n",
    "                    eos_token_id=tokenizer.eos_token_id,\n",
    "                    hparams=load_dict['hparams'])\n",
    "\n",
    "model.load_state_dict(load_dict['model'])"
   ]
  },
  {
   "cell_type": "markdown",
   "id": "f397a48edee3e416",
   "metadata": {},
   "source": [
    "Now try it again and see how it does:"
   ]
  },
  {
   "cell_type": "code",
   "execution_count": 84,
   "id": "a7342c760c205ce8",
   "metadata": {},
   "outputs": [
    {
     "name": "stdout",
     "output_type": "stream",
     "text": [
      "Das ist nicht Teil des Datenasets!\n"
     ]
    }
   ],
   "source": [
    "output_sequence = translate(\"This is not part of the dataset!\", probabilistic=False)\n",
    "print(output_sequence)"
   ]
  },
  {
   "cell_type": "markdown",
   "id": "37fa9e302f00b65c",
   "metadata": {},
   "source": [
    "Alright, seems to work (Apart from a small typo, but we didn't train this model for that long)! Try out probabilistic to see some other results, they might be rubish though...\n",
    "\n",
    "Note: If your model outputs something weird, you probably made some mistake a long the way that we didn't catch! Please go over your Encoder and Decoder Blocks and make sure you did this correctly! Especially look at the residual connections!"
   ]
  },
  {
   "cell_type": "markdown",
   "id": "316c4a623d4aa7a8",
   "metadata": {},
   "source": [
    "Congrats! You've now finished your first transformer model! Since this is a totally new exercise, we would really appreciate it if you could give us some [feedback](https://forms.gle/ZUZKcBiSY7bpsQko9)! Like which explanations did you like or not like, what was to hard and maybe what was to easy! "
   ]
  },
  {
   "cell_type": "markdown",
   "id": "35dbbe05",
   "metadata": {},
   "source": [
    "To create a zip file with your submission, run the following cell:"
   ]
  },
  {
   "cell_type": "code",
   "execution_count": 85,
   "id": "16ff7d9c337e0e",
   "metadata": {},
   "outputs": [
    {
     "name": "stdout",
     "output_type": "stream",
     "text": [
      "relevant folders: ['exercise_code', 'submission_files']\n",
      "notebooks files: ['1_dataset_and_collator.ipynb', '2_transformer.ipynb']\n",
      "Adding folder exercise_code\n",
      "Adding folder submission_files\n",
      "Adding notebook 1_dataset_and_collator.ipynb\n",
      "Adding notebook 2_transformer.ipynb\n",
      "Zipping successful! Zip is stored under: d:\\Study\\TUM\\I2DL\\output\\exercise12.zip\n"
     ]
    }
   ],
   "source": [
    "from exercise_code.util.submit import submit_exercise\n",
    "\n",
    "path = os.path.join(root_path, 'output', 'exercise12')\n",
    "submit_exercise(path)"
   ]
  },
  {
   "cell_type": "markdown",
   "id": "7442471dcd3e8742",
   "metadata": {},
   "source": [
    "# Submission Instructions\n",
    "\n",
    "To complete the exercise, submit your final model to our submission portal - you probably know the procedure by now.\n",
    "\n",
    "1. Go on [our submission page](https://i2dl.cvg.cit.tum.de/submission/), register for an account and login. We use your matriculation number and send an email with the login details to the mail account associated. When in doubt, login into tum online and check your mails there. You will get an ID which we need in the next step.\n",
    "2. Log into [our submission page](https://i2dl.cvg.cit.tum.de/submission/) with your account details and upload the `zip` file. Once successfully uploaded, you should be able to see the submitted file selectable on the top.\n",
    "3. Click on this file and run the submission script. You will get an email with your score as well as a message if you have surpassed the threshold.\n",
    "\n",
    "# Submission Goals\n",
    "\n",
    "- Goal: Successfully implement a transformer model!\n",
    "\n",
    "- Points:\n",
    "    - 5 points per Module if shape is correct (FeedForwardNeuralNetwork, EncoderBlock, DecoderBlock, Transformer)\n",
    "    - 5 points per Module if output is correct (FeedForwardNeuralNetwork, EncoderBlock, DecoderBlock, Transformer)\n",
    "    - 30 points if submitted model reaches minimum score\n",
    "    - Total = 4 x 5 + 4 x 5 + 30 = 70\n",
    "\n",
    "- Passing Criteria: Minimum of 65 points!\n",
    "- Feel free to submit an unlimited number of assignments until the end of the semester; however, any submissions made after the deadline will not contribute to your bonus points.\n",
    " "
   ]
  }
 ],
 "metadata": {
  "kernelspec": {
   "display_name": "My_AI",
   "language": "python",
   "name": "python3"
  },
  "language_info": {
   "codemirror_mode": {
    "name": "ipython",
    "version": 3
   },
   "file_extension": ".py",
   "mimetype": "text/x-python",
   "name": "python",
   "nbconvert_exporter": "python",
   "pygments_lexer": "ipython3",
   "version": "3.11.10"
  }
 },
 "nbformat": 4,
 "nbformat_minor": 5
}
